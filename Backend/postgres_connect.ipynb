{
 "cells": [
  {
   "cell_type": "code",
   "execution_count": 28,
   "metadata": {},
   "outputs": [],
   "source": [
    "import psycopg2\n",
    "from dotenv import load_dotenv\n",
    "import os\n",
    "from tabulate import tabulate\n",
    "\n",
    "load_dotenv()\n",
    "conn = psycopg2.connect(\n",
    "    host=os.getenv(\"DB_HOST\"),\n",
    "    dbname=os.getenv(\"DB_NAME\"),\n",
    "    user=os.getenv(\"DB_USER\"),\n",
    "    password=os.getenv(\"DB_PASS\"),\n",
    "    port=os.getenv(\"DB_PORT\"),\n",
    ")\n",
    "curr = conn.cursor()"
   ]
  },
  {
   "cell_type": "code",
   "execution_count": 30,
   "metadata": {},
   "outputs": [
    {
     "name": "stdout",
     "output_type": "stream",
     "text": [
      "--  -------------------      ----------  ---------------------------\n",
      " 1  Bad Apple                2024-10-21\n",
      " 3  Portfolio website        2024-10-21\n",
      " 5  Panchayati Raj           2024-10-21\n",
      " 6  Tennis game              2024-10-21\n",
      " 7  Horn Antenna             2024-10-21\n",
      " 8  TriGrapher               2024-10-21\n",
      " 9  Resolv                   2024-10-21\n",
      "10  TIFR                     2024-10-21\n",
      "11  BTP-1                    2024-10-21\n",
      "12  CDSR Mini project        2024-10-21\n",
      "13  ChainMyName              2024-10-21\n",
      "14  ClaMedR                  2024-10-21\n",
      " 2  Cloff                    2024-10-21  ['path1', 'path2', 'path3']\n",
      " 4  Virtual Marketplace      2024-10-21  ['path4']\n",
      "--  -------------------      ----------  ---------------------------\n"
     ]
    }
   ],
   "source": [
    "query = \"\"\"\n",
    "UPDATE projects\n",
    "SET image_paths='{path4}'\n",
    "WHERE project_id=4\n",
    ";\n",
    "\"\"\"\n",
    "\n",
    "\n",
    "curr.execute(query)\n",
    "\n",
    "curr.execute(\"SELECT * FROM projects;\")\n",
    "res = curr.fetchall()\n",
    "print(tabulate(res,))"
   ]
  },
  {
   "cell_type": "code",
   "execution_count": 31,
   "metadata": {},
   "outputs": [],
   "source": [
    "conn.commit()\n",
    "curr.close()\n",
    "conn.close()"
   ]
  },
  {
   "cell_type": "code",
   "execution_count": null,
   "metadata": {},
   "outputs": [],
   "source": []
  }
 ],
 "metadata": {
  "kernelspec": {
   "display_name": "portfolio",
   "language": "python",
   "name": "python3"
  },
  "language_info": {
   "codemirror_mode": {
    "name": "ipython",
    "version": 3
   },
   "file_extension": ".py",
   "mimetype": "text/x-python",
   "name": "python",
   "nbconvert_exporter": "python",
   "pygments_lexer": "ipython3",
   "version": "3.12.7"
  }
 },
 "nbformat": 4,
 "nbformat_minor": 2
}
